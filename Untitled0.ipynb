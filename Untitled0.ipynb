{
  "nbformat": 4,
  "nbformat_minor": 0,
  "metadata": {
    "colab": {
      "provenance": [],
      "authorship_tag": "ABX9TyObMX6SBYgVbu4Dh+ClvyiA",
      "include_colab_link": true
    },
    "kernelspec": {
      "name": "python3",
      "display_name": "Python 3"
    },
    "language_info": {
      "name": "python"
    }
  },
  "cells": [
    {
      "cell_type": "markdown",
      "metadata": {
        "id": "view-in-github",
        "colab_type": "text"
      },
      "source": [
        "<a href=\"https://colab.research.google.com/github/Arnav-the-master-coder/Arnav-the-master-coder/blob/main/Untitled0.ipynb\" target=\"_parent\"><img src=\"https://colab.research.google.com/assets/colab-badge.svg\" alt=\"Open In Colab\"/></a>"
      ]
    },
    {
      "cell_type": "code",
      "execution_count": 7,
      "metadata": {
        "colab": {
          "base_uri": "https://localhost:8080/"
        },
        "id": "sJcmWYrONWL3",
        "outputId": "f83d2b3b-78c8-4e4c-e31c-08821151f464"
      },
      "outputs": [
        {
          "output_type": "stream",
          "name": "stdout",
          "text": [
            "What is the equation?5x + 9\n",
            "b= 5\n",
            "a= 9\n",
            "solution of the given linear equation -1.8\n"
          ]
        }
      ],
      "source": [
        "eqn=str(input(\"What is the equation?\"))\n",
        "for i in range (0,len(eqn)):\n",
        "  if eqn[i] == 'x':\n",
        "    i_=i\n",
        "    b=int(eqn[:i])\n",
        "    print(\"b=\",b)\n",
        "for d in range (i_,len(eqn)):\n",
        "  if eqn[d] == '+' :\n",
        "    a = int (eqn[d+1:len(eqn)])\n",
        "    print (\"a=\",a)\n",
        "if eqn[d] =='-':\n",
        "  a=-int(eqn[d+1:len(eqn)])\n",
        "  print (\"a=\",a)\n",
        "print (\"solution of the given linear equation\",-(a)/(b))\n"
      ]
    }
  ]
}